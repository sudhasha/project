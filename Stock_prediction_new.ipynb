{
 "cells": [
  {
   "cell_type": "markdown",
   "metadata": {},
   "source": [
    "# Machine Learning Stock Prediction in python\n",
    "\n",
    "In this project we have the main obejctive i-e to predict stock market returns using machine learning (ML) techniques. Here in first part we have to engineer and build a dataset which have below features variables:\n",
    "1. Moving Averages ()Technical Indicators like RSI, MACD, Stochastic_K, Accumulation and Distribution, CCI, ATR )\n",
    "2. Past Volatilities including all simple vol, EWMA vol, Yang-Zhang\n",
    "\n",
    "Here we considered different timeperiods likes 5 days, 10 days , 20 days.\n",
    "\n",
    "In second part, we have to do prediction using below classifiers:\n",
    "\u000f Logistic, including penalised regression, Naive Bayes\n",
    "\u000f Support Vector Machines\n",
    "\u000f KNN (if possible to adapt)\n",
    "\u000f Decision Trees (Regression version) and Ensemble Methods (AdaBoost)\n",
    "\n",
    "Also, in addition we use one of the two approaches to get proper comparision of results with tuning parameters.\n",
    "\n",
    "\u000f ANNs and Deep Learning (a recurrent neural network/LTSM)\n",
    "\u000f Reinforcement Learning\n",
    "\n",
    "Then use Machine Learning to predict stock in multinomial seets class in portoflio using Black Litterman Mean Variance Optimization model.\n",
    "\n",
    "##PART-1 : Building a dataset with all Technical Features, Volatility including all timeperiods.##\n",
    "\n",
    "To get this I created a json file which is easy to customize based on our requirement.\n",
    "Filename: stockdatainfo.json\n",
    "\n",
    "After this I use pandas datareader function to download timeseries data of a given stock with start and end date as input.\n",
    "\n"
   ]
  },
  {
   "cell_type": "code",
   "execution_count": 45,
   "metadata": {},
   "outputs": [],
   "source": [
    "import pandas as pd\n",
    "import numpy as np\n",
    "import import_ipynb\n",
    "import seaborn as sns\n",
    "from techincal_features import *\n",
    "from sklearn import linear_model\n",
    "from sklearn.neighbors import KNeighborsClassifier,KNeighborsRegressor,kneighbors_graph\n",
    "from sklearn.tree import DecisionTreeClassifier, DecisionTreeRegressor\n",
    "from sklearn.svm import SVC, SVR\n",
    "from sklearn.ensemble import RandomForestClassifier, RandomForestRegressor, ExtraTreesRegressor, ExtraTreesClassifier\n",
    "from sklearn import preprocessing\n",
    "from sklearn import metrics\n",
    "from sklearn.model_selection import train_test_split, KFold,cross_val_score\n",
    "from sklearn.preprocessing import StandardScaler\n",
    "from sklearn import tree\n",
    "from sklearn.ensemble import AdaBoostClassifier,VotingClassifier \n",
    "import graphviz\n",
    "import pydotplus\n",
    "import os as os\n",
    "import json\n",
    "import pandas_datareader.data as web\n",
    "import sympy \n",
    "import matplotlib.pylab as plt\n",
    "plt.style.use('seaborn')\n",
    "%matplotlib inline\n",
    "from pandas.tseries import *\n",
    "import matplotlib.dates as mdates\n",
    "import matplotlib.cbook as cbook\n",
    "years = mdates.YearLocator()\n",
    "months = mdates.MonthLocator\n",
    "myFmt = mdates.DateFormatter('%Y-%m-%d')"
   ]
  },
  {
   "cell_type": "code",
   "execution_count": 46,
   "metadata": {},
   "outputs": [
    {
     "name": "stdout",
     "output_type": "stream",
     "text": [
      "0 JPM has data stored to csv file\n"
     ]
    },
    {
     "data": {
      "image/png": "[encoded data removed]",
      "text/plain": [
       "<Figure size 432x288 with 1 Axes>"
      ]
     },
     "metadata": {
      "needs_background": "light"
     },
     "output_type": "display_data"
    }
   ],
   "source": [
    "\n",
    "\n",
    "asset_price_plots_dir = \"{}/asset_price_plots/\".format(os.getcwd())\n",
    "def read_jason():\n",
    "    with open(\"stockinfo.json\", 'r') as ticker_list_f:\n",
    "      ticker_list_str = ticker_list_f.read()\n",
    "      asset_data_info = json.loads(ticker_list_str)\n",
    "    return asset_data_info\n",
    "asset_data_info = read_jason()\n",
    "asset_filename = \"assetdata.csv\"\n",
    "itr = 0 \n",
    "tick = asset_data_info[\"stock_tickers\"]\n",
    "feature_list = asset_data_info[\"features_list\"]\n",
    "length = len(asset_data_info['stock_tickers'])\n",
    "\n",
    "Data = pd.DataFrame([])\n",
    "for itr in range(0, length):\n",
    "    ticker = tick[itr]\n",
    "    data = web.DataReader(ticker, 'yahoo', \"2009-01-01\", \"2019-01-01\")[feature_list]   \n",
    "    data.insert(0,'Symbol',tick[itr])\n",
    "    if itr == 0:\n",
    "        data.to_csv(\"{}\".format(asset_filename), index = True, header=True)\n",
    "        print (itr, tick[itr],'has data stored to csv file')\n",
    "    else:\n",
    "        data.to_csv(\"{}\".format(asset_filename), index = True,mode = 'a', header=False)\n",
    "        print (itr, tick[itr],'has data stored to csv file')    \n",
    "    data = data[::-1]\n",
    "    data['Adj Close'].plot()\n",
    "    Data = Data.append(data)"
   ]
  },
  {
   "cell_type": "markdown",
   "metadata": {},
   "source": [
    "# Build Technical Indicators\n",
    "\n",
    "- Moving Average\n",
    "\n",
    "In financial applications a simple moving average (SMA) is the unweighted mean of the previous n data. \n",
    "This ensures that variations in the mean are aligned with the variations in the data rather than being shifted in time.\n",
    "An example of a simple equally weighted running mean for a n-day sample of closing price is the mean of the previous n days closing prices.\n",
    "If those prices are:\n",
    "     p_{M},p_{M-1} ,p_{M-(n-1)} then the formula is\n",
    "\n",
    "\\begin{aligned}{\\overline {p}}_{\\text{SM}}&={\\frac {p_{M}+p_{M-1}+\\cdots +p_{M-(n-1)}}{n}}\\\\&={\\frac {1}{n}}\\sum _{i=0}^{n-1}p_{M-i}.\\end{aligned}\n",
    "\n",
    "- Exponential Moving Average\n",
    "\n",
    "An exponential moving average (EMA), also known as an exponentially weighted moving average (EWMA),[5] is a first-order infinite impulse response filter that applies weighting factors which decrease exponentially. The weighting for each older datum decreases exponentially, never reaching zero.\n",
    "\n",
    "The EMA for a series Y may be calculated recursively:\n",
    "\n",
    "S_{t}=\\begin{cases}Y_{1},&t=1\\\\\\alpha \\cdot Y_{t}+(1-\\alpha )\\cdot S_{t-1},&t>1\\end{cases}\n",
    "Where:\n",
    "\n",
    "The coefficient α represents the degree of weighting decrease, a constant smoothing factor between 0 and 1. A higher α discounts older observations faster.\n",
    "Yt is the value at a time period t.\n",
    "St is the value of the EMA at any time period t.\n",
    "\n",
    "- Relative Strength Index(RSI)\n",
    "\n",
    "RSI is a momentum oscillator that measures the speed and change of price movements. The RSI oscillates between zero and 100. Traditionally the RSI is considered overbought when above 70 and oversold when below 30. Signals can be generated by looking for divergences and failure swings. RSI can also be used to identify the general trend.\n",
    "\n",
    "The RSI is a fairly simple formula, but is difficult to explain without pages of examples. The basic formula is:\n",
    "\n",
    "RSI = 100 – [100 / ( 1 + (Average of Upward Price Change / Average of Downward Price Change ) ) ]\n",
    "\n",
    "\n",
    "- Stochastic_K\n",
    "\n",
    "Stochastic indicator is indicator in technical analysis created by George Lane. It belongs to oscillators and measures the relative position of the closing prices compared to the amplitude of price oscillations in a given period. The indicator is based on the assumption that as prices rise, the closing price tends towards the values that belong to the upper part of the area of price movements in the preceding period. When prices fall, the opposite is true.\n",
    "\n",
    "Formulas for calculating the % K lines are:\n",
    "\n",
    "The Formula For The Stochastic Oscillator Is\n",
    "\\begin{aligned} &\\text{%K}=\\left(\\frac{\\text{C} - \\text{L_n}}{\\text{H_n} - \\text{L_n}}\\right)\\times100\\\\ &\\textbf{where:}\\\\ &\\text{C = The most recent closing price}\\\\ &\\text{L_n = The lowest price traded of the n previous}\\\\ &\\text{trading sessions}\\\\ &\\text{H_n = The highest price traded during the same}\\\\ &\\text{n-day period}\\\\ &\\text{%K = The current value of the stochastic indicator}\\\\ \\end{aligned}\n",
    "\n",
    "- MACD\n",
    "\n",
    "Moving Average Convergence / Divergence (MACD) was created by Gerald Appel. This indicator combines oscillators and two exponential moving averages. It is calculated as the difference between the value of exponential moving averages (EMA) for a short period (e.g. 12) and for a longer period (e.g. 26). It includes also the line that is used for generating buying and selling signals. It is called the signal line and it is typically calculated for 9 samples.\n",
    "\n",
    "Formulas for calculating the indicators are:\n",
    "\n",
    "MACD = EMA (CLOSE, 12) - EMA (CLOSE, 26)\n",
    "SIGNAL = SMA (MACD; 9)\n",
    "\n",
    "- CCI\n",
    "\n",
    "Commodity Channel Index (CCI) is a momentum-based oscillator used to help determine when an investment vehicle is reaching a condition of being overbought or oversold. It is also used to assess price trend direction and strength. This information allows traders to determine if they want to enter or exit a trade, refrain from taking a trade, or add to an existing position. In this way, the indicator can be used to provide trade signals when it acts in a certain way.\n",
    "\n",
    "The Formula For the Commodity Channel Index (CCI) is\n",
    "\\begin{aligned} &\\text{CCI} = \\frac{ \\text{Typical Price} - \\text{MA} }{ .015 \\times \\text{Mean Deviation} } \\\\ &\\textbf{where:}\\\\ &\\text{Typical Price} = \\textstyle{ \\sum_{i=1}^{P} ( ( \\text{High} + \\text{Low} + \\text{Close} ) \\div 3 ) } \\\\ &P = \\text{Number of periods} \\\\ &\\text{MA} = \\text{Moving Average} \\\\ &\\text{Moving Average} = ( \\textstyle{ \\sum_{i=1}^{P} \\text{Typical Price} } ) \\div P \\\\ &\\text{Mean Deviation} = ( \\textstyle{ \\sum_{i=1}^{P} \\mid \\text{Typical Price} - \\text{MA} \\mid } ) \\div P \\\\ \\end{aligned} \n",
    "\n",
    "\n",
    "- ATR\n",
    "\n",
    "The average true range (ATR) is a technical analysis indicator that measures market volatility by decomposing the entire range of an asset price for that period. Specifically, ATR is a measure of volatility introduced by market technician J. Welles Wilder Jr. in his book, \"New Concepts in Technical Trading Systems.\"\n",
    "\n",
    "The true range indicator is taken as the greatest of the following: current high less the current low; the absolute value of the current high less the previous close; and the absolute value of the current low less the previous close. The average true range is then a moving average, generally using 14 days, of the true ranges.\n",
    "\n",
    "The Formula For ATR Is\n",
    "The first step in calculating ATR is to find a series of true range values for a security. The price range of an asset for a given trading day is simply its high minus its low. Meanwhile, the true range is more encompassing and is defined as:\n",
    "\n",
    "\\begin{aligned} &TR = \\text{Max}[(H\\ -\\ L), \\text{Abs}(H\\ -\\ C_P),\\text{Abs}(L\\ -\\ C_P)]\\\\ &ATR=\\bigg(\\frac1n\\bigg)\\sum\\limits^{(n)}_{(i=1)}TR_i\\\\ &\\textbf{where:}\\\\ &TR_i=\\text{A particular true range}\\\\ &n=\\text{The time period employed} \\end{aligned}\n",
    "\n",
    "- AC_DT\n",
    "\n",
    "Accumulation/distribution is a cumulative indicator that uses volume and price to assess whether a stock is being accumulated or distributed. The accumulation/distribution measure seeks to identify divergences between the stock price and volume flow. This provides insight into how strong a trend is. If the price is rising but the indicator is falling this indicates that buying or accumulation volume may not be enough to support the price rise and a price decline could be forthcoming.\n",
    "\n",
    "The Formula for the Accumulation/Distribution Indicator is\n",
    "\\begin{aligned} &\\text{A/D} = \\text{Previous A/D} + \\text{CMFV}\\\\ &\\textbf{where:}\\\\ &\\text{CMFV} = \\text{Current money flow volume} \\\\ &\\phantom{\\text{CMFV} } = \\frac{ ( P_C-P_L ) - ( P_H-P_C ) }{ P_H -P_L } \\times \\text{V} \\\\ &P_C = \\text{Closing price} \\\\ &P_L = \\text{Low price for the period} \\\\ &P_H = \\text{High price for the period} \\\\ &\\text{V} = \\text{Volume for the period} \\\\ \\end{aligned} \n",
    "\n",
    "- Annualized Volatility\n",
    "\n",
    "Historical volatility of securities or security prices, we actually mean historical volatility of returns. It looks like a negligible distinction, but it is very important for the calculation and interpretation of historical volatility. Mathematically, historical volatility is the (usually annualized) standard deviation of returns.\n",
    "\n",
    "Calculate standard deviation = square root of variance. The whole formula therefore is:\n",
    "\n",
    "\\begin{aligned} &\\text{Annualized Volatility} = \\sqrt{ \\frac{\\sum_{i=1}^{n}\\left(x_i - \\overline{x}\\right)^2} {n-1} }\\\\ &\\textbf{where:}\\\\ &x_i = \\text{Value of the } i^{th} \\text{ point in the data set}\\\\ &\\overline{x}= \\text{The mean value of the data set}\\\\ &n = \\text{The number of data points in the data set} \\end{aligned} \n",
    "\n",
    "That is 1-day Volatility, by multiplying the 1-day volatility by the square root of the number of (trading) days in a year – in our case square root of 252. The result is the annualized volatility.\n",
    "\n",
    "- Yang Zhang Volatility\n",
    "\n",
    "Yang and Zhang (2000) propose a volatility estimator (the YZ estimator) based on multiple period open, high, low, and close prices that are unbiased in the continuous limit, independent of the drift and account for opening price jumps. They find that the YZ estimator has the minimum variance among all estimators that have the same properties. The YZ estimator is given by:\n",
    "\n",
    "The Yang and Zhang historical volatility estimator has minimum estimation error, and is independent of drift and opening gaps. It can be interpreted as a weighted average of the Rogers and Satchell estimator, the close-open volatility, and the open-close volatility.\n",
    "\n",
    "Users may override the default values of α (1.34 by default) or k used in the calculation by specifying alpha or k in ..., respectively. Specifying k will cause alpha to be ignored, if both are provided.\n",
    "\\begin{aligned} &\\text{s} = \\sqrt {s2o + k*s2c + (1-k)*(s2rs)^2}\\end{aligned}\n",
    "\n",
    "s2o = N * runVar(log(Op/lag(Cl,1)), n=n)\n",
    "\n",
    "\n",
    "s2c = N * runVar(log(Cl/Op), n=n)\n",
    "\n",
    "\n",
    "s2rs = volatility(OHLC, n, \"rogers.satchell\", N, ...)\n",
    "\n",
    "k = (alpha-1) / (alpha + (n+1)/(n-1))"
   ]
  },
  {
   "cell_type": "code",
   "execution_count": 47,
   "metadata": {},
   "outputs": [],
   "source": [
    "Result = pd.DataFrame([])\n",
    "for i in Data.Symbol.unique():\n",
    "    Dataset = pd.DataFrame([])\n",
    "    Dataset = Data[Data['Symbol'] == i]\n",
    "    Dataset = Dataset.iloc[:,1:7]\n",
    "    win = [10]\n",
    "    Dataset['Returns'] = returns(Dataset)\n",
    "    for j in win:\n",
    "        Dataset = moving_average(Dataset,j)\n",
    "        Dataset = exponential_moving_average(Dataset, j)\n",
    "        Dataset = relative_strength_index(Dataset, j)\n",
    "        Dataset  = stochastic_K(Dataset, j)\n",
    "        Dataset  = CCI(Dataset, j)\n",
    "        Dataset  = average_true_range(Dataset, j)\n",
    "        Dataset  = AC_DT(Dataset)\n",
    "        Dataset  = Volatility(Dataset, j)\n",
    "        Dataset = EWMAVol(Dataset, j)\n",
    "        Dataset  = Yang_z_vol(Dataset, j)\n",
    "    Dataset = MACD(Dataset, 12,26)\n",
    "    Dataset.dropna(inplace = True)"
   ]
  },
  {
   "attachments": {
    "image.png": {
     "image/png": "[encoded data removed]"
    }
   },
   "cell_type": "markdown",
   "metadata": {},
   "source": [
    "# Prepare and split Dataset for Machine learning with returns to be predicted.\n",
    "\n",
    "\n",
    "Preprocessing Dataset with all Technical features.\n",
    "\n",
    "Here we use both classifier as well as regressor to predict direction of return and actual returns.\n",
    "We use below classifiers:\n",
    "1. Logistics\n",
    "2. Panelaized\n",
    "2. DecisionTree\n",
    "3. Support Vector Machine\n",
    "4. Random Forest\n",
    "5. Extra Tree Regressor\n",
    "\n",
    "and use below Regressor:\n",
    "1. Linear\n",
    "2. Decision Tree\n",
    "3. Support Vector Machine\n",
    "4. Random Forest\n",
    "5. Extra Tree Regressor\n",
    "\n",
    "\n",
    "Machine learning (ML) pipelines consist of several steps to train a model, but the term ‘pipeline’ is misleading as it implies a one-way flow of data.  Instead, machine learning pipelines are cyclical and iterative as every step is repeated to continuously improve the accuracy of the model and achieve a successful algorithm.  To build better machine learning models, and get the most value from them, accessible, scalable and durable storage solutions are imperative, paving the way for on-premises object storage.\n",
    "Here for this we use Bagging and Boosing algo to get improved accuracy.\n",
    "\n",
    "Ensemble methods combine several decision trees classifiers to produce better predictive performance than a single decision tree classifier. The main principle behind the ensemble model is that a group of weak learners come together to form a strong learner, thus increasing the accuracy of the model.When we try to predict the target variable using any machine learning technique, the main causes of difference in actual and predicted values are noise, variance, and bias. Ensemble helps to reduce these factors (except noise, which is irreducible error).\n",
    "\n",
    "Bagging and Boosting are similar in that they are both ensemble techniques, where a set of weak learners are combined to create a strong learner that obtains better performance than a single one.\n",
    "Bagging and Boosting helps to decrease the variance and increased the robustness of the model. Combinations of multiple classifiers decrease variance, especially in the case of unstable classifiers, and may produce a more reliable classification than a single classifier.\n",
    "\n",
    "- BAGGING\n",
    "\n",
    "Bootstrap Aggregation (or Bagging for short), is a simple and very powerful ensemble method. Bagging is the application of the Bootstrap procedure to a high-variance machine learning algorithm, typically decision trees.\n",
    "Suppose there are N observations and M features. A sample from observation is selected randomly with replacement(Bootstrapping).\n",
    "A subset of features are selected to create a model with sample of observations and subset of features.\n",
    "Feature from the subset is selected which gives the best split on the training data.(Visit my blog on Decision Tree to know more of best split)\n",
    "This is repeated to create many models and every model is trained in parallel\n",
    "Prediction is given based on the aggregation of predictions from all the models.\n",
    "When bagging with decision trees, we are less concerned about individual trees overfitting the training data. For this reason and for efficiency, the individual decision trees are grown deep (e.g. few training samples at each leaf-node of the tree) and the trees are not pruned. These trees will have both high variance and low bias. These are important characterize of sub-models when combining predictions using bagging. The only parameters when bagging decision trees is the number of samples and hence the number of trees to include. This can be chosen by increasing the number of trees on run after run until the accuracy begins to stop showing improvement\n",
    "\n",
    "- BOOSTING\n",
    "\n",
    "Boosting refers to a group of algorithms that utilize weighted averages to make weak learners into stronger learners. Unlike bagging that had each model run independently and then aggregate the outputs at the end without preference to any model. Boosting is all about “teamwork”. Each model that runs, dictates what features the next model will focus on.\n",
    "\n",
    "- Bagging or Boosting?\n",
    "\n",
    "Bagging and Boosting decrease the variance of your single estimate as they combine several estimates from different models. So the result may be a model with higher stability.\n",
    "If the problem is that the single model gets a very low performance, Bagging will rarely get a better bias. However, Boosting could generate a combined model with lower errors as it optimises the advantages and reduces pitfalls of the single model.\n",
    "By contrast, if the difficulty of the single model is over-fitting, then Bagging is the best option. Boosting for its part doesn’t help to avoid over-fitting; in fact, this technique is faced with this problem itself. For this reason, Bagging is effective more often than Boosting.\n",
    "\n",
    "\n",
    "- K-Fold Cross Validation\n",
    "\n",
    "K-Fold CV is where a given data set is split into a K number of sections/folds where each fold is used as a testing set at some point. Lets take the scenario of 5-Fold cross validation(K=5). Here, the data set is split into 5 folds. In the first iteration, the first fold is used to test the model and the rest are used to train the model. In the second iteration, 2nd fold is used as the testing set while the rest serve as the training set. This process is repeated until each fold of the 5 folds have been used as the testing set.\n",
    "\n",
    "![image.png](attachment:image.png)"
   ]
  },
  {
   "cell_type": "code",
   "execution_count": 48,
   "metadata": {},
   "outputs": [],
   "source": [
    "def preprocessing(data):\n",
    "\n",
    "    mms=StandardScaler()\n",
    "    df=pd.DataFrame(mms.fit_transform(data))\n",
    "    \n",
    "    df.columns=data.columns\n",
    "    df=df.set_index(data.index)\n",
    "    cols = list(data.columns)    \n",
    "    cols = [col for col in df if col != 'Returns']\n",
    "    \n",
    "    #df = df.iloc[:,4:20]\n",
    "    #df = df.drop(['Volume'], axis = 1)\n",
    "    X = df.iloc[:, df.columns != 'Returns']\n",
    "    y = df.iloc[:, df.columns == 'Returns']\n",
    "    y_class = np.where(y>=0,1,-1)\n",
    "    return X,y,y_class"
   ]
  },
  {
   "cell_type": "code",
   "execution_count": 49,
   "metadata": {},
   "outputs": [],
   "source": [
    "def Performace_measure_C(y_test,y_pred,symbol, model):\n",
    "    #cnf_matrix = metrics.confusion_matrix(y_test, y_pred)\n",
    "    #print(\"Confusion Matrix for: \"+str(symbol),model, cnf_matrix)\n",
    "    score = metrics.accuracy_score(y_test, y_pred)\n",
    "    #print(\"Accuracy for \"+str(symbol),model,\" is: \",score)\n",
    "    return score"
   ]
  },
  {
   "cell_type": "code",
   "execution_count": 50,
   "metadata": {},
   "outputs": [],
   "source": [
    "def Logistics_C(X_train,X_test,y_train,y_test,i):\n",
    "    lm = linear_model.LogisticRegression(solver = 'lbfgs')\n",
    "    lm.fit(X_train,np.ravel(y_train,order='C'))\n",
    "    y_pred = lm.predict(X_test)\n",
    "    model = 'Logistics'\n",
    "    score = Performace_measure_C(y_test,y_pred,i, model)\n",
    "    return score,model,lm"
   ]
  },
  {
   "cell_type": "code",
   "execution_count": 51,
   "metadata": {},
   "outputs": [],
   "source": [
    "def penalized_C(X_train,X_test,y_train,y_test,i):\n",
    "    lm = linear_model.SGDClassifier(loss=\"log\", penalty=\"l1\")\n",
    "    lm.fit(X_train,np.ravel(y_train,order='C'))\n",
    "    y_pred = lm.predict(X_test)\n",
    "    model = 'Penalized'\n",
    "    score = Performace_measure_C(y_test,y_pred,i, model)\n",
    "    return score, model,lm"
   ]
  },
  {
   "cell_type": "code",
   "execution_count": 52,
   "metadata": {},
   "outputs": [],
   "source": [
    "def SupportVectorMachine_C(X_train,X_test,y_train,y_test,i):\n",
    "    sm = SVC(kernel='linear')\n",
    "    sm.fit(X_train,np.ravel(y_train,order='C'))\n",
    "    y_pred = sm.predict(X_test)\n",
    "    model = 'SVM'\n",
    "    score = Performace_measure_C(y_test,y_pred,i, model)\n",
    "    return score, model,sm"
   ]
  },
  {
   "cell_type": "code",
   "execution_count": 53,
   "metadata": {},
   "outputs": [],
   "source": [
    "def DecisionTree_C(X_train,X_test,y_train,y_test,i):\n",
    "    DT = DecisionTreeClassifier()\n",
    "    DT.fit(X_train,np.ravel(y_train,order='C'))\n",
    "    y_pred = DT.predict(X_test)\n",
    "    model = 'Decision Tree'\n",
    "    score = Performace_measure_C(y_test,y_pred,i, model)\n",
    "    return score, model,DT"
   ]
  },
  {
   "cell_type": "code",
   "execution_count": 54,
   "metadata": {},
   "outputs": [],
   "source": [
    "def RandomForest_C(X_train,X_test,y_train,y_test,i):\n",
    "    RF = RandomForestClassifier(n_estimators= 100)\n",
    "    RF.fit(X_train,np.ravel(y_train,order='C'))\n",
    "    y_pred = RF.predict(X_test)\n",
    "    model = 'Random Forest'\n",
    "    score = Performace_measure_C(y_test,y_pred,i, model)\n",
    "    return score, model,RF"
   ]
  },
  {
   "cell_type": "code",
   "execution_count": 55,
   "metadata": {},
   "outputs": [],
   "source": [
    "def Extra_tree_C(X_train,X_test,y_train,y_test,i):\n",
    "    EF = ExtraTreesClassifier(n_estimators= 100)\n",
    "    EF.fit(X_train,np.ravel(y_train,order='C'))\n",
    "    y_pred = EF.predict(X_test)\n",
    "    model = 'Extra Tree'\n",
    "    score = Performace_measure_C(y_test,y_pred,i, model)\n",
    "    return score, model,EF"
   ]
  },
  {
   "cell_type": "code",
   "execution_count": 56,
   "metadata": {},
   "outputs": [],
   "source": [
    "def KNN(X_train,X_test,y_train,y_test,i):\n",
    "    KN = KNeighborsClassifier(n_neighbors= int(np.sqrt(len(X_train))))\n",
    "    #print(int(np.sqrt(len(X_train))))\n",
    "    KN.fit(X_train,np.ravel(y_train,order='C'))\n",
    "    y_pred = KN.predict(X_test)\n",
    "    model = 'KNN'\n",
    "    score = Performace_measure_C(y_test,y_pred,i, model)\n",
    "    return score, model,KN"
   ]
  },
  {
   "cell_type": "code",
   "execution_count": 57,
   "metadata": {},
   "outputs": [],
   "source": [
    "def bagging_C(X_train,X_test,y_train,y_test,i,lm,sv,dt,rf,et,kn):\n",
    "    baggingModel = VotingClassifier([('a',lm),('b',sv),('c',dt),('d',rf),('e',et),('f',kn)])\n",
    "    baggingModel.fit(X_train,np.ravel(y_train,order='C'))\n",
    "    y_pred = baggingModel.predict(X_test)\n",
    "    model = 'Bagging'\n",
    "    score = Performace_measure_C(y_test,y_pred,i, model)\n",
    "    return score, model,baggingModel"
   ]
  },
  {
   "cell_type": "code",
   "execution_count": 58,
   "metadata": {},
   "outputs": [],
   "source": [
    "def boosting_C(X_train,X_test,y_train,y_test,i,lm,sv,dt,rf,et,kn):\n",
    "    boostingModel = AdaBoostClassifier(base_estimator=rf,algorithm='SAMME')\n",
    "    boostingModel.fit(X_train,np.ravel(y_train,order='C'))\n",
    "    y_pred = boostingModel.predict(X_test)\n",
    "    model = 'Boosting'\n",
    "    score = Performace_measure_C(y_test,y_pred,i, model)\n",
    "    return score, model,boostingModel"
   ]
  },
  {
   "cell_type": "code",
   "execution_count": 59,
   "metadata": {},
   "outputs": [],
   "source": [
    "import warnings\n",
    "warnings.filterwarnings('ignore')"
   ]
  },
  {
   "cell_type": "code",
   "execution_count": 60,
   "metadata": {
    "scrolled": true
   },
   "outputs": [],
   "source": [
    "def Classifier():\n",
    "    X, y, y_class = preprocessing(Dataset)\n",
    "    X_train, X_test, y_train, y_test = train_test_split(X,y_class, test_size = 0.30, random_state =500)\n",
    "\n",
    "    score_log, model1,lm = Logistics_C(X_train,X_test,y_train,y_test,i)\n",
    "    score_pen, model2,pen = penalized_C(X_train,X_test,y_train,y_test,i)\n",
    "    score_svm, model3,sv = SupportVectorMachine_C(X_train,X_test,y_train,y_test,i)\n",
    "    score_dt, model4,dt = DecisionTree_C(X_train,X_test,y_train,y_test,i)  \n",
    "    score_rf, model5,rf = RandomForest_C(X_train,X_test,y_train,y_test,i)\n",
    "    score_et, model6,et = Extra_tree_C(X_train,X_test,y_train,y_test,i)\n",
    "    score_kn, model7,kn = KNN(X_train,X_test,y_train,y_test,i)\n",
    "    score_bg,model8,bg = bagging_C(X_train,X_test,y_train,y_test,i,lm,sv,dt,rf,et,kn)\n",
    "    score_bs,model9,bs = boosting_C(X_train,X_test,y_train,y_test,i,lm,sv,dt,rf,et,kn)\n",
    "\n",
    "    lst = {'Model': [model1,model2,model3,model4,model5,model6,model7,model8,model9],\n",
    "        'Score': [score_log,score_pen,score_svm,score_dt,score_rf,score_et,score_kn,score_bg,score_bs],\n",
    "           'Object': [lm,pen,sv,dt,rf,et,kn,bg,bs]\n",
    "        }\n",
    "    df = pd.DataFrame(lst,columns= ['Model', 'Score', 'Object'])\n",
    "    df1 = pd.DataFrame([], index= df.index)\n",
    "    for k in range(0,len(df.Model)):\n",
    "        df2 = pd.DataFrame([])\n",
    "        crossvalidation = KFold(n_splits=5, random_state=None, shuffle=False)\n",
    "        scores = cross_val_score(df.iloc[k,2], X, y_class, scoring=\"neg_mean_squared_error\", cv=crossvalidation, n_jobs=1)\n",
    "        x =  df.iloc[k,0]\n",
    "        df2['Model'] = [x]\n",
    "        y = np.mean(np.abs(scores))\n",
    "        df2['MSE'] = [y]\n",
    "        df1 = df2.append(df1, ignore_index=True, sort= False)\n",
    "    \n",
    "    df = pd.merge(df, df1, on='Model')\n",
    "    sns.set_style(\"whitegrid\") \n",
    "    sns.boxplot(x = 'Model', y = 'Score', data = df) \n",
    "    #df.boxplot(by ='Model', column =['Score'], grid = True)\n",
    "    df.dropna(inplace = True)    \n",
    "    del df['Object']\n",
    "    print(df)\n",
    "    print(\"___________________________________________________\")    \n",
    "    print(\"Max Accuracy Score is shown in below model:\")\n",
    "    Max_score = df['Score'].max()\n",
    "    p = (df[df['Score'] == df['Score'].max()])\n",
    "    print(p)\n",
    "    print(\"___________________________________________________\")    \n",
    "    print(\"Min MSE is shown in below model:\")\n",
    "    q = (df[df['MSE'] == df['MSE'].min()])\n",
    "    print(q)\n",
    "    #Best_model = min()"
   ]
  },
  {
   "cell_type": "code",
   "execution_count": 61,
   "metadata": {
    "scrolled": true
   },
   "outputs": [
    {
     "name": "stdout",
     "output_type": "stream",
     "text": [
      "           Model     Score       MSE\n",
      "0      Logistics  0.707219  1.184592\n",
      "1      Penalized  0.679144  1.367490\n",
      "2            SVM  0.707219  1.176570\n",
      "3  Decision Tree  0.647059  1.346684\n",
      "4  Random Forest  0.719251  1.147687\n",
      "5     Extra Tree  0.689840  1.181376\n",
      "6            KNN  0.712567  1.252021\n",
      "7        Bagging  0.716578  1.160499\n",
      "8       Boosting  0.699198  1.189412\n",
      "___________________________________________________\n",
      "Max Accuracy Score is shown in below model:\n",
      "           Model     Score       MSE\n",
      "4  Random Forest  0.719251  1.147687\n",
      "___________________________________________________\n",
      "Min MSE is shown in below model:\n",
      "           Model     Score       MSE\n",
      "4  Random Forest  0.719251  1.147687\n"
     ]
    },
    {
     "data": {
      "image/png": "[encoded data removed]",
      "text/plain": [
       "<Figure size 432x288 with 1 Axes>"
      ]
     },
     "metadata": {},
     "output_type": "display_data"
    }
   ],
   "source": [
    "#Will take 2-3 mins to run\n",
    "for i in Data.Symbol.unique():\n",
    "    Classifier()"
   ]
  },
  {
   "attachments": {
    "image.png": {
     "image/png": "[encoded data removed]"
    }
   },
   "cell_type": "markdown",
   "metadata": {},
   "source": [
    "\n",
    "# Deep Neural Network\n",
    "\n",
    "Artificial Neural Networks (ANN) are computing systems inspired by the biological neural networks. This kind of system can learn by experiencing examples and use the learned experiences to do tasks, which is similar as a human brain. \n",
    "A simple illustration of the ANN can be seen here:\n",
    "![image.png](attachment:image.png)\n",
    "\n",
    "\n",
    "An ANN model consists of an input layer, at least one hidden layer and an output layer, each of which is connected to the other. At least one neuron should be employed in each layer of the ANN model. Input layers on the left part are the parameters\n",
    "considered to be put into the ANN algorithm. Hidden layers are the layers for the algorithm to assign different weights to each different neuron. The number of neurons in the hidden layer is determined empirically. The neurons of a layer are linked to\n",
    "the neurons of the neighboring layers with connectivity coeffcients (weights). Using a learning procedure, these weights are adjusted to classify the given input patterns correctly for a given set of input-output pairs. The initial values of these weights are randomly assigned. The back-propagation learning algorithm is used to train the multi-layered feed forward ANN structure in the model. Back-propagation is the process that minimizes the forecast error between predicted output and actual output by adjusting the weights in the hidden layers.\n",
    "\n",
    "Here I set up Deep Learning Algorithm with Tensorflow."
   ]
  },
  {
   "cell_type": "code",
   "execution_count": 62,
   "metadata": {},
   "outputs": [],
   "source": [
    "import tensorflow as tf\n",
    "from matplotlib import pyplot as plt"
   ]
  },
  {
   "cell_type": "code",
   "execution_count": 63,
   "metadata": {
    "scrolled": true
   },
   "outputs": [
    {
     "data": {
      "image/png": "[encoded data removed]",
      "text/plain": [
       "<Figure size 432x288 with 1 Axes>"
      ]
     },
     "metadata": {},
     "output_type": "display_data"
    }
   ],
   "source": [
    "dataset = Dataset\n",
    "plt.plot(dataset['High'], color=\"red\")\n",
    "dataset.columns\n",
    "PERIODICITY = 12 # I hardcoded Periodicity as 12 here."
   ]
  },
  {
   "cell_type": "markdown",
   "metadata": {},
   "source": [
    "Make each parameter in same range using Standard Scaler and split data into X and Y"
   ]
  },
  {
   "cell_type": "code",
   "execution_count": 64,
   "metadata": {},
   "outputs": [],
   "source": [
    "dataset.sort_values(\"Date\", axis=0, inplace=True)\n",
    "Y = dataset[\"Returns\"]\n",
    "X = dataset.drop([\"Returns\"], axis=1)"
   ]
  },
  {
   "cell_type": "code",
   "execution_count": 65,
   "metadata": {},
   "outputs": [],
   "source": [
    "def Stationary(A):\n",
    "    newDF = pd.DataFrame()\n",
    "    for col in A.columns:\n",
    "        colArray = A.loc[:,col]\n",
    "        if (colArray<0).any():\n",
    "            colArray = colArray - min(colArray) + 1\n",
    "        stat = np.diff(np.log(colArray+0.00000000001))\n",
    "        newDF[col] = stat\n",
    "    return newDF\n",
    "stationaryX = Stationary(X.fillna(0.0001))\n",
    "stationaryX.fillna(0, inplace=True)"
   ]
  },
  {
   "cell_type": "code",
   "execution_count": 66,
   "metadata": {},
   "outputs": [
    {
     "data": {
      "text/plain": [
       "[<matplotlib.lines.Line2D at 0x1c4eb5c20f0>]"
      ]
     },
     "execution_count": 66,
     "metadata": {},
     "output_type": "execute_result"
    },
    {
     "data": {
      "image/png": "[encoded data removed]",
      "text/plain": [
       "<Figure size 432x288 with 1 Axes>"
      ]
     },
     "metadata": {},
     "output_type": "display_data"
    }
   ],
   "source": [
    "plt.plot(stationaryX['High'])"
   ]
  },
  {
   "cell_type": "code",
   "execution_count": 67,
   "metadata": {},
   "outputs": [],
   "source": [
    "finalDF = np.zeros((len(stationaryX) - PERIODICITY - 1, PERIODICITY, stationaryX.shape[1]))"
   ]
  },
  {
   "cell_type": "code",
   "execution_count": 68,
   "metadata": {},
   "outputs": [],
   "source": [
    "for i in range(len(stationaryX) - PERIODICITY - 1):\n",
    "    for index, col in enumerate(stationaryX.columns):\n",
    "        finalDF[i, :, index] = stationaryX[col][i:i+PERIODICITY]"
   ]
  },
  {
   "cell_type": "code",
   "execution_count": 69,
   "metadata": {},
   "outputs": [
    {
     "data": {
      "text/plain": [
       "(2478, 12, 17)"
      ]
     },
     "execution_count": 69,
     "metadata": {},
     "output_type": "execute_result"
    }
   ],
   "source": [
    "finalDF.shape"
   ]
  },
  {
   "cell_type": "code",
   "execution_count": 70,
   "metadata": {},
   "outputs": [],
   "source": [
    "Y = Y[PERIODICITY+2:]\n",
    "Y = Y.values.reshape((-1, 1))"
   ]
  },
  {
   "cell_type": "code",
   "execution_count": 71,
   "metadata": {},
   "outputs": [
    {
     "data": {
      "text/plain": [
       "(2478, 1)"
      ]
     },
     "execution_count": 71,
     "metadata": {},
     "output_type": "execute_result"
    }
   ],
   "source": [
    "Y.shape"
   ]
  },
  {
   "cell_type": "code",
   "execution_count": 72,
   "metadata": {},
   "outputs": [
    {
     "data": {
      "text/plain": [
       "(0.16265052973160032, -0.1978517280340325)"
      ]
     },
     "execution_count": 72,
     "metadata": {},
     "output_type": "execute_result"
    }
   ],
   "source": [
    "Y.max(), Y.min()"
   ]
  },
  {
   "cell_type": "markdown",
   "metadata": {},
   "source": [
    "Set up three Hidden Layers in Neural Network with tanh activation.\n",
    "\n",
    "The tanh function is a sigmoidal (“s”-shaped), but instead outputs values have range (-1, 1). Thus strongly negative inputs to the tanh will map to negative outputs. Additionally, only zero-valued inputs are mapped to near-zero outputs. These properties make the network less likely to get “stuck” during training. Calculating the gradient for the tanh function also uses the quotient rule:\n",
    "\n",
    "\\begin{array}{rcl} g'_{\\text{tanh}}(z) &=& \\frac{\\partial}{\\partial z} \\frac{\\text{sinh}(z)}{\\text{cosh}(z)} \\\\  &=& \\frac{\\frac{\\partial}{\\partial z} \\text{sinh}(z) \\times \\text{cosh}(z) - \\frac{\\partial}{\\partial z} \\text{cosh}(z) \\times \\text{sinh}(z)}{\\text{cosh}^2(z)} \\\\  &=& \\frac{\\text{cosh}^2(z) - \\text{sinh}^2(z)}{\\text{cosh}^2(z)} \\\\  &=& 1 - \\frac{\\text{sinh}^2(z)}{\\text{cosh}^2(z)} \\\\  &=& 1 - \\text{tanh}^2(z)\\end{array}\n",
    "\n",
    "Similar to the derivative for the logistic sigmoid, the derivative of \\begin{array}{rcl} g_{\\text{tanh}}(z) \\end{array} is a function of feed-forward activation evaluated at z, namely \\begin{array}{rcl}(1-g_{\\text{tanh}}(z)^2)\\end{array}\n",
    "\n",
    "Thus the same caching trick can be used for layers that implement tanh activation functions."
   ]
  },
  {
   "cell_type": "code",
   "execution_count": 73,
   "metadata": {},
   "outputs": [],
   "source": [
    "model = tf.keras.models.Sequential()\n",
    "model.add(tf.keras.layers.LSTM(PERIODICITY*2, input_shape=(PERIODICITY, stationaryX.shape[1]), return_sequences=True, dropout=0.1, recurrent_dropout=0.1, activation='tanh'))\n",
    "model.add(tf.keras.layers.LSTM(32, dropout=0.1, recurrent_dropout=0.1, activation='tanh'))\n",
    "model.add(tf.keras.layers.Dense(16, activation='tanh'))\n",
    "model.add(tf.keras.layers.Dense(1, activation='tanh'))\n",
    "model.compile(loss='mse', optimizer='adam')"
   ]
  },
  {
   "cell_type": "code",
   "execution_count": 74,
   "metadata": {},
   "outputs": [
    {
     "name": "stdout",
     "output_type": "stream",
     "text": [
      "_________________________________________________________________\n",
      "Layer (type)                 Output Shape              Param #   \n",
      "=================================================================\n",
      "lstm_2 (LSTM)                (None, 12, 24)            4032      \n",
      "_________________________________________________________________\n",
      "lstm_3 (LSTM)                (None, 32)                7296      \n",
      "_________________________________________________________________\n",
      "dense_2 (Dense)              (None, 16)                528       \n",
      "_________________________________________________________________\n",
      "dense_3 (Dense)              (None, 1)                 17        \n",
      "=================================================================\n",
      "Total params: 11,873\n",
      "Trainable params: 11,873\n",
      "Non-trainable params: 0\n",
      "_________________________________________________________________\n",
      "None\n"
     ]
    }
   ],
   "source": [
    "print(model.summary())"
   ]
  },
  {
   "cell_type": "markdown",
   "metadata": {},
   "source": [
    "- Choice of optimization algorithm \n",
    "\n",
    "For deep learning model the choice of optimization algorithm can mean the difference between good results in minutes, hours, and days.\n",
    "The Adam optimization algorithm is an extension to stochastic gradient descent that has recently seen broader adoption for deep learning applications.\n",
    "\n",
    "Adam is an optimization algorithm that can used instead of the classical stochastic gradient descent procedure to update network weights iterative based in training data.\n",
    "\n",
    "The Adam optimization algorithm is an extension to stochastic gradient descent that has recently seen broader adoption for deep learning applications in computer vision and natural language processing.\n",
    "\n",
    "Adam is different to classical stochastic gradient descent.Stochastic gradient descent maintains a single learning rate (termed alpha) for all weight updates and the learning rate does not change during training.\n",
    "\n",
    "Here in Adam, learning rate is maintained for each network weight (parameter) and separately adapted as learning unfolds.\n",
    "\n",
    "The method computes individual adaptive learning rates for different parameters from estimates of first and second moments of the gradients.\n",
    "Adam adopt two other extensions of stochastic gradient descent. Specifically:\n",
    "\n",
    "- Adaptive Gradient Algorithm (AdaGrad) that maintains a per-parameter learning rate that improves performance on problems with sparse gradients (e.g. natural language and computer vision problems).\n",
    "- Root Mean Square Propagation (RMSProp) that also maintains per-parameter learning rates that are adapted based on the average of recent magnitudes of the gradients for the weight (e.g. how quickly it is changing). This means the algorithm does well on online and non-stationary problems (e.g. noisy).\n"
   ]
  },
  {
   "cell_type": "markdown",
   "metadata": {},
   "source": [
    "This will attain good prediction after a long number of epochs; we have to monitor where loss is declining and become constant at that point we have to stop and get the prediction correctly.\n",
    "Here I tested with 400 but I think it will still go beyound that."
   ]
  },
  {
   "cell_type": "code",
   "execution_count": 75,
   "metadata": {},
   "outputs": [
    {
     "name": "stdout",
     "output_type": "stream",
     "text": [
      "Train on 1486 samples, validate on 372 samples\n",
      "Epoch 1/3\n",
      "1486/1486 [==============================] - 7s 4ms/step - loss: 4.2241e-04 - acc: 0.0074 - val_loss: 6.2698e-04 - val_acc: 0.0134\n",
      "Epoch 2/3\n",
      "1486/1486 [==============================] - 4s 3ms/step - loss: 4.0301e-04 - acc: 0.0074 - val_loss: 5.8233e-04 - val_acc: 0.0134\n",
      "Epoch 3/3\n",
      "1486/1486 [==============================] - 4s 3ms/step - loss: 3.9037e-04 - acc: 0.0074 - val_loss: 6.0736e-04 - val_acc: 0.0134\n",
      "Observation Prediction\n",
      "[-0.00435577] [-0.00957478]\n",
      "[-0.01459587] [-0.01298499]\n",
      "[-0.01131112] [-0.00465428]\n",
      "[-0.0021814] [-0.0071797]\n",
      "[-0.03383978] [-0.01054357]\n",
      "[0.01631994] [-0.00444713]\n",
      "[-0.01565598] [-0.00987345]\n",
      "[0.00628431] [-0.0076023]\n",
      "[-0.03209005] [-0.00354035]\n",
      "[-0.00402456] [-0.01184954]\n",
      "[-0.01635224] [-0.0033906]\n",
      "[-0.01821859] [-0.01196838]\n",
      "[0.01436502] [-0.01047186]\n",
      "[0.01114924] [-0.00782855]\n",
      "[-0.00540855] [-0.01549766]\n",
      "[0.00627265] [-0.00869203]\n",
      "[0.02566003] [-0.00499261]\n",
      "[-0.00782864] [-0.00604428]\n",
      "[-0.00541599] [-0.00389479]\n",
      "[0.00209185] [-0.01065172]\n"
     ]
    }
   ],
   "source": [
    "for i in Data.Symbol.unique():\n",
    "    X_train, X_test, y_train, y_test = train_test_split(finalDF,Y, test_size = 0.25, random_state =300)\n",
    "    model.compile(loss='mean_squared_error', optimizer='adam', metrics = [\"accuracy\"])\n",
    "    model.fit(X_train, y_train, batch_size=4, validation_split=0.2, epochs=3)\n",
    "    # Predicting first 20 values (Ypred, Ytrue)\n",
    "    print(\"Observation\",\"Prediction\")\n",
    "    #model.evaluate()\n",
    "    y_pred = model.predict(X_test)\n",
    "    for j in range(20):\n",
    "        print(y_test[j],y_pred[j])"
   ]
  },
  {
   "cell_type": "markdown",
   "metadata": {},
   "source": [
    "# Multinomial Model with Portfolio Optimization\n",
    "Its a part of Machine Learning Project but here I only showed Black Litermann Mean Variance Optimization. Due to shortage of time I unable to link this to predict returns of portfolio using Machine Learning algo's, if its goes bullish, bearish."
   ]
  },
  {
   "cell_type": "code",
   "execution_count": 76,
   "metadata": {},
   "outputs": [
    {
     "name": "stdout",
     "output_type": "stream",
     "text": [
      "Directory  data  Created \n",
      "0 AMD has data stored to csv file\n",
      "1 GOOGL has data stored to csv file\n",
      "2 JPM has data stored to csv file\n",
      "3 AMZN has data stored to csv file\n",
      "4 NFLX has data stored to csv file\n",
      "5 MSFT has data stored to csv file\n",
      "6 AAPL has data stored to csv file\n",
      "7 SLB has data stored to csv file\n",
      "8 KO has data stored to csv file\n",
      "9 GS has data stored to csv file\n"
     ]
    }
   ],
   "source": [
    "datadir = 'data'\n",
    "if not os.path.exists(datadir):\n",
    "    os.mkdir(datadir)\n",
    "    print(\"Directory \" , datadir ,  \" Created \")\n",
    "else:    \n",
    "    print(\"Directory \" , datadir ,  \" already exists\")\n",
    "filename = 'data/' + 'MktCaps.csv'\n",
    "\n",
    "import csv   \n",
    "fields=['symbols','caps']\n",
    "with open(filename, 'w',newline='') as f:\n",
    "    writer = csv.writer(f)\n",
    "    writer.writerow(fields)\n",
    "        \n",
    "def write_csv_for_all_symbol():\n",
    "    def read_jason():\n",
    "        with open(\"stockdatainfo.json\", 'r') as ticker_list_f:\n",
    "            ticker_list_str = ticker_list_f.read()\n",
    "            asset_data_info = json.loads(ticker_list_str)\n",
    "        return asset_data_info\n",
    "    asset_data_info = read_jason()\n",
    "#asset_filename = \"assetdata.csv\"\n",
    "    itr = 0 \n",
    "    tick = asset_data_info[\"stock_tickers\"]\n",
    "    feature_list = asset_data_info[\"features_list\"]\n",
    "    length = len(asset_data_info['stock_tickers'])\n",
    "\n",
    "    for itr in range(0, length):\n",
    "        ticker = tick[itr]\n",
    "        newfile = 'data/' + ticker + '.csv'\n",
    "        data = web.DataReader(ticker, 'yahoo',\"2009-01-01\", \"2019-01-01\")[feature_list] \n",
    "        data1 = web.get_quote_yahoo(ticker)['marketCap'] \n",
    "        data.insert(0,'Symbol',tick[itr])\n",
    "        data.to_csv(newfile, index = True, header=True)\n",
    "        data1.to_csv(filename, mode = 'a',encoding='utf-8')\n",
    "        print (itr, tick[itr],'has data stored to csv file')\n",
    "        \n",
    "\n",
    "#write_csv_for_one_symbol('AAPL')\n",
    "write_csv_for_all_symbol()"
   ]
  },
  {
   "cell_type": "markdown",
   "metadata": {},
   "source": [
    "# Black Litterman Model\n",
    "It starts with the Market Returns, • Apply your own unique views of how certain markets are going to behave\n",
    "\n",
    "• The end result is a set of return forecasts that give rise to diversified portfolio when used with Mean-Variance Optimization.\n",
    "\n",
    "• The Market Returns are the returns that are implied by the Market Portfolio. The Market Returns are derived from known information using Reverse Optimization:\n",
    "\n",
    "Risk Premium\n",
    "Covariance Matrix\n",
    "Market Capitalization of the assets\n",
    "\n",
    "                             Π = λΣwmkt\n",
    "where, Π (Pi) is the excess market returns over the risk free rate,\n",
    "\n",
    "λ (Lambda) is the risk aversion coefficient,\n",
    "\n",
    "Σ (Sigma) is the covariance matrix of returns, and\n",
    "\n",
    "wmkt is the market capitalization weight of the assets\n",
    "\n",
    "Risk aversion coefficient (λ)= Risk Premium / Variance\n",
    "\n",
    "Covariance Matrix(Σ) for two asset A and B, Covariance (A,B) = Correlation (A,B) * Std Dev (A) * Std Dev (B)\n",
    "\n",
    "Market Portfolio Weights are based on the market capitalization for each of the assets in a portfolio.\n",
    "\n",
    "Implied Total Market Return is the Excess Return plus the Risk-Free Rate"
   ]
  },
  {
   "cell_type": "code",
   "execution_count": 77,
   "metadata": {},
   "outputs": [
    {
     "name": "stdout",
     "output_type": "stream",
     "text": [
      "Using matplotlib backend: Qt5Agg\n",
      "Populating the interactive namespace from numpy and matplotlib\n",
      "-----------------------------------------------------\n",
      " Please input minimum two proper Stock names from this list:\n",
      "    \"AMD\",\"GOOGL\",\"JPM\",\"AMZN\",\"NFLX\",\"MSFT\",\"GS\",\"KO\",\"AAPL\",\"SLB\"\n",
      "\n",
      "    AMD GOOGL JPM AMZN NFLX MSFT GS KO SLB AAPL\n",
      "\n",
      "\n",
      "Input passed from stored data!\n"
     ]
    }
   ],
   "source": [
    "%pylab\n",
    "%matplotlib inline\n",
    "pylab.rcParams['figure.figsize'] = (12, 8)\n",
    "from pandas import *\n",
    "import scipy.optimize\n",
    "import numpy as np\n",
    "import re\n",
    "\n",
    "from datetime import datetime  \n",
    "filename = 'data/' + 'MktCaps.csv' \n",
    "    \n",
    "def load_mkt_caps(file):\n",
    "    symbols_caps = pandas.read_csv(file, index_col = None) # symbols_caps is a pandas.dataframe\n",
    "    symbols_caps.dropna(how = \"all\", inplace = True)\n",
    "    symbols = list(symbols_caps['symbols'])\n",
    "    caps = list(symbols_caps['caps'])\n",
    "    return symbols, caps\n",
    "\n",
    "# Function takes in user input and returns a list of stock symbols if input is legal and returns [] otherwise\n",
    "def select_assets(*args):\n",
    "    pool_symbols, _ = load_mkt_caps(filename)\n",
    "    try:\n",
    "        assets = ''.join(args).upper().split(' ')\n",
    "    except:\n",
    "        print('\\n\\nWarning: not pass proper input symbol!\\n\\n')\n",
    "        return []\n",
    "    if set(pool_symbols).union(set(assets)) != set(pool_symbols):\n",
    "        print('\\n\\nIimproper input format or stock not in our pool! Please type again!\\n\\n')\n",
    "        return []\n",
    "    else:\n",
    "        print('\\n\\nInput passed from stored data!')\n",
    "        return assets\n",
    "\n",
    "assets_list = []\n",
    "while assets_list == []:\n",
    "    assets_list = input('''-----------------------------------------------------\\n Please input minimum two proper Stock names from this list:\n",
    "    \"AMD\",\"GOOGL\",\"JPM\",\"AMZN\",\"NFLX\",\"MSFT\",\"GS\",\"KO\",\"AAPL\",\"SLB\"\\n\n",
    "    ''')\n",
    "    assets_list = select_assets(assets_list) "
   ]
  },
  {
   "cell_type": "code",
   "execution_count": 78,
   "metadata": {},
   "outputs": [],
   "source": [
    "def load_data(stk_list):   \n",
    "    pool_symbols, pool_caps = load_mkt_caps(filename) \n",
    "    symbols = list(set(stk_list))\n",
    "    caps = []\n",
    "    for s in symbols:\n",
    "        caps.append(pool_caps[pool_symbols.index(s)])  \n",
    "    price_arrays = []\n",
    "    for s in symbols:\n",
    "        data = pandas.read_csv('data/%s.csv' % s, index_col=None, parse_dates=True) \n",
    "        prices = list(data['Close'])\n",
    "        price_arrays.append(prices) \n",
    "    return symbols, caps, price_arrays \n",
    "\n",
    "symbols, caps, price_arrays = load_data(assets_list)"
   ]
  },
  {
   "cell_type": "code",
   "execution_count": 79,
   "metadata": {},
   "outputs": [],
   "source": [
    "def compute_stats(price_arrays):\n",
    "    #Transfer a list of prices into a matrix\n",
    "    price_up = numpy.mat(price_arrays)\n",
    "    #Use our data to compute daily return\n",
    "    price_row = numpy.size(price_up, 0)\n",
    "    price_col = numpy.size(price_up, 1)\n",
    "    data_return = numpy.zeros([price_row, price_col - 1])\n",
    "    for i in range(price_row):\n",
    "        for j in range(price_col - 1):\n",
    "            p_start = price_up[i, j]\n",
    "            p_end = price_up[i, j + 1]\n",
    "            data_return[i, j] = (p_end - p_start)/ p_start      \n",
    "    cal_return = numpy.array([])\n",
    "    for i in range(price_row):\n",
    "        mean_return = numpy.mean(data_return[i])\n",
    "        cal_return = numpy.append(cal_return, mean_return) \n",
    "    var_cov_matx = cov(data_return)\n",
    "    cal_return = (1 + cal_return) ** 250 - 1\n",
    "    var_cov_matx  = var_cov_matx * 250\n",
    "    return cal_return, var_cov_matx"
   ]
  },
  {
   "cell_type": "code",
   "execution_count": 80,
   "metadata": {},
   "outputs": [],
   "source": [
    "#Calculate weight from market caps and Calculate return and var_cov_matrix\n",
    "W = np.array(caps) / sum(caps)\n",
    "Rp, Vp= compute_stats(price_arrays)\n",
    "                        \n",
    "#Hardcoded 1.5% real risk-free rate.\n",
    "                        \n",
    "rf = 0.015"
   ]
  },
  {
   "cell_type": "code",
   "execution_count": 81,
   "metadata": {},
   "outputs": [],
   "source": [
    "#To compute frontier of portfolio constructed with given assets with return, \n",
    "#var-cov matrix and risk free rate hardcoded to 1.5%\n",
    "def portfolio_frontier(Rp, Vp, rf):\n",
    "    exp_mean = []\n",
    "    opt_var = []\n",
    "    num_of_assets = len(Rp)\n",
    "    min_ret = min(Rp)\n",
    "    max_ret = max(Rp)\n",
    "    group = 20 #Calculate 20 groups of optimal solution\n",
    "    interval = (max_ret - min_ret)/(group - 1)\n",
    "    ret_list = []\n",
    "    for i in range(group):\n",
    "        ret_list.append((min_ret + interval * i))\n",
    "    \n",
    "    #Calculate weights which minimizes variance of portfolio. \n",
    "    def optimization(Wp, Rp, Vp, r):\n",
    "        mean = dot(Wp, Rp)\n",
    "        var = dot(dot(Wp, Vp), Wp)\n",
    "        penalty = 100 * abs(mean - r)\n",
    "        return var + penalty\n",
    "    \n",
    "    for r in ret_list:#For different return\n",
    "        #initial weight for optimization\n",
    "        Wp = ones(num_of_assets) / num_of_assets\n",
    "        boundary = [] \n",
    "        for i in range(num_of_assets):\n",
    "            boundary.append((0, 1))\n",
    "        #The boundary of each weight for a specific asset\n",
    "        constraint_ = ({'type': 'eq', 'fun': lambda Wp: sum(Wp) - 1.0})\n",
    "        #The constraints in optimizing that the sum of weights should equal to 1\n",
    "        result = scipy.optimize.minimize(optimization, Wp, (Rp, Vp, r), method = 'SLSQP',\n",
    "                                             constraints = constraint_, bounds = boundary)\n",
    "        \n",
    "        if result.success:\n",
    "            exp_mean.append(r)\n",
    "            opt_var.append(dot(dot(result.x, Vp), result.x))\n",
    "        else:\n",
    "            raise BaseException(result.message)\n",
    "    \n",
    "    return array(exp_mean), array(opt_var)\n",
    "                        "
   ]
  },
  {
   "cell_type": "code",
   "execution_count": 82,
   "metadata": {},
   "outputs": [],
   "source": [
    "#To calculate tangent point from on optimal portfolio and risk-free rate\n",
    "def weight_MV(Rp, Vp, rf):\n",
    "    def weight_initial(Rp):                 # initial weight of the optimization procedure\n",
    "        port_count = len(Rp)\n",
    "        Wp=[]\n",
    "        for i in range(port_count):\n",
    "            Wp.append(1 / port_count)         # set all of these assets with equal weights in the portfolio\n",
    "        return Wp\n",
    "    def MV_object_function(Wp, Rp, Vp, rf):    # return the objective function of Mean Variance optimization change \n",
    "        p_mean = sum(Rp * Wp)                 #To calculate the mean return of the portfolio\n",
    "        p_var = dot(dot(Wp , Vp), Wp)          #To calculate the variance of the portfolio\n",
    "        p_sharp_ratio= (p_mean - rf) / sqrt(p_var)\n",
    "        object_func =  1 / p_sharp_ratio\n",
    "        return object_func\n",
    "    def MV_optimal(Rp, Vp, rf):\n",
    "        Wp = weight_initial(Rp)              # input the initial weight\n",
    "        bound = []                           # add each bound of every assets weight in the spread from [0,1]\n",
    "        for i in range(len(Rp)):\n",
    "            bound.append((0., 1.))                 \n",
    "        constraint = ({'type': 'eq', 'fun': lambda Wp: sum(Wp) - 1.}) \n",
    "        weight_optimal =scipy.optimize.minimize(MV_object_function, \n",
    "                                                Wp,(Rp, Vp, rf), method='SLSQP', constraints=constraint, bounds=bound)\n",
    "                                             #calculate the optimal weight of each assests in the portfolio in MV model\n",
    "        if weight_optimal.success:\n",
    "            return weight_optimal.x\n",
    "        else:\n",
    "            raise BaseException(weight_optimal.message)\n",
    "    return MV_optimal(Rp, Vp, rf)\n"
   ]
  },
  {
   "cell_type": "code",
   "execution_count": 83,
   "metadata": {},
   "outputs": [],
   "source": [
    "def equilibrium_excess_return(W,Rp,Vp): # Apply Market Caps Weights\n",
    "    mean = dot(W,Rp)\n",
    "    var = dot(dot(W,Vp),W)\n",
    "    lamuda = (mean - rf)/var\n",
    "    return dot(dot(lamuda,Vp),W)\n",
    "\n",
    "Pi = equilibrium_excess_return(W,Rp,Vp)"
   ]
  },
  {
   "cell_type": "code",
   "execution_count": 84,
   "metadata": {},
   "outputs": [],
   "source": [
    "#Here we are optimizing portfolio using equilibrium excess return.\n",
    "def optimal_portfolio_based_on_equilibrium_returns(Rp,Vp,rf):\n",
    "    Wp = weight_MV(Rp,Vp,rf)\n",
    "    opt_mean = dot(Wp,Rp)\n",
    "    opt_var = dot(dot(Wp,Vp),Wp)\n",
    "    frontier_mean,frontier_var = portfolio_frontier(Rp,Vp,rf)\n",
    "    result_implied_return = dict()\n",
    "    result_implied_return['Weights']=Wp\n",
    "    result_implied_return['Tangent_mean']=opt_mean\n",
    "    result_implied_return['Tangent_var']=opt_var\n",
    "    result_implied_return['Frontier_mean']=frontier_mean\n",
    "    result_implied_return['Frontier_var']=frontier_var\n",
    "    return result_implied_return\n",
    "\n",
    "result_eq = optimal_portfolio_based_on_equilibrium_returns(Pi+rf,Vp,rf)"
   ]
  },
  {
   "cell_type": "code",
   "execution_count": 85,
   "metadata": {},
   "outputs": [],
   "source": [
    "def optimization_views(Vp,Pi,rf):\n",
    "    view = []\n",
    "    view_link = []\n",
    "    def pi_add_view(Vp,Pi):  \n",
    "        scalar = 0.025      # indicating the uncertainty of the CAPM distribution (0.025-0.05) \n",
    "        pi_vol = dot(scalar,Vp)    # Uncertinity Matrix                \n",
    "        view_vol= [] \n",
    "        pi_vol_inv = inv(pi_vol)                \n",
    "        view_vol_inv = [] \n",
    "        pi_view_weighted =dot(pi_vol_inv,Pi) \n",
    "        pi_new= dot(inv(pi_vol_inv), pi_view_weighted)  \n",
    "        return pi_new               ##the new equilibrium return           \n",
    "\n",
    "    # get the optimal allocation weights and efficent frontier from new excess return from above\n",
    "    pi_new = pi_add_view(Vp,Pi)   \n",
    "    Wp_new = weight_MV(pi_new+rf,Vp,rf)\n",
    "    mean_new = sum(Wp_new * (pi_new+rf))\n",
    "    var_new = dot(dot(Wp_new,Vp),Wp_new)\n",
    "    mean_frontier, var_frontier = portfolio_frontier(pi_new+rf,Vp,rf)\n",
    "    \n",
    "    result= dict()\n",
    "    result['Pi']=pi_new\n",
    "    result['Weights']=Wp_new\n",
    "    result['Tangent_mean']=mean_new\n",
    "    result['Tangent_var']=var_new\n",
    "    result['Frontier_mean']=mean_frontier\n",
    "    result['Frontier_var']=var_frontier\n",
    "    return result\n",
    "optimal_views = optimization_views(Vp,Pi,rf)"
   ]
  },
  {
   "cell_type": "code",
   "execution_count": 86,
   "metadata": {},
   "outputs": [],
   "source": [
    "#draw efficient frontier of given assets\n",
    "def plot_efficient_frontier(optimal,label=None, color='black'):\n",
    "    text(optimal['Tangent_var'] ** .5, optimal['Tangent_mean'], '   tangent', verticalalignment='center', color=color)\n",
    "    scatter(optimal['Tangent_var'] ** .5, optimal['Tangent_mean'], marker='o', color=color), grid(True)\n",
    "    plot(optimal['Frontier_var'] ** .5, optimal['Frontier_mean'], label=label, color=color), grid(True) \n",
    "    \n",
    "#add nodes of assets and mark labels to each nodes in the graph\n",
    "def plot_symbol(names, Rp, Vp, color='cyan'):\n",
    "    scatter([Vp[i, i] ** .5 for i in range(len(Rp))], Rp, marker='x', color=color), grid(True)  \n",
    "    for i in range(len(Rp)): \n",
    "        text(Vp[i, i] ** .5, Rp[i], '  %s' % names[i], verticalalignment='center', color=color) \n"
   ]
  },
  {
   "cell_type": "code",
   "execution_count": 87,
   "metadata": {},
   "outputs": [],
   "source": [
    "def MODEL(optimal_views):\n",
    "                        \n",
    "    plot_symbol(symbols,optimal_views['Pi']+rf, Vp, color='blue') # adding risk free rate here while plotting.\n",
    "    plot_efficient_frontier(optimal_views,label='Adding views', color='red')\n",
    "\n",
    "    xlabel('variance $\\sigma$'), ylabel('mean $\\mu$'), legend(), show()\n",
    "    \n",
    "    display(pd.DataFrame({'Return': Rp, 'Weight (Blacklitterman opt)': optimal_views['Weights']}, index=symbols).T)\n",
    "\n",
    "    display(pd.DataFrame({'Blacklitterman Model(SCLALAR=0.025)': [optimal_views['Tangent_mean'],optimal_views['Tangent_var']]}, \n",
    "                         index=['Portfolio(add risk_free) Return','Portfolio(add risk_free) Volitality']).T)\n",
    "    display(pd.DataFrame(Vp, columns=symbols, index=symbols))"
   ]
  },
  {
   "cell_type": "code",
   "execution_count": 88,
   "metadata": {},
   "outputs": [
    {
     "data": {
      "image/png": "[encoded data removed]",
      "text/plain": [
       "<Figure size 864x576 with 1 Axes>"
      ]
     },
     "metadata": {
      "needs_background": "light"
     },
     "output_type": "display_data"
    },
    {
     "data": {
      "text/html": [
       "<div>\n",
       "<style scoped>\n",
       "    .dataframe tbody tr th:only-of-type {\n",
       "        vertical-align: middle;\n",
       "    }\n",
       "\n",
       "    .dataframe tbody tr th {\n",
       "        vertical-align: top;\n",
       "    }\n",
       "\n",
       "    .dataframe thead th {\n",
       "        text-align: right;\n",
       "    }\n",
       "</style>\n",
       "<table border=\"1\" class=\"dataframe\">\n",
       "  <thead>\n",
       "    <tr style=\"text-align: right;\">\n",
       "      <th></th>\n",
       "      <th>AAPL</th>\n",
       "      <th>AMD</th>\n",
       "      <th>GOOGL</th>\n",
       "      <th>KO</th>\n",
       "      <th>SLB</th>\n",
       "      <th>NFLX</th>\n",
       "      <th>GS</th>\n",
       "      <th>MSFT</th>\n",
       "      <th>JPM</th>\n",
       "      <th>AMZN</th>\n",
       "    </tr>\n",
       "  </thead>\n",
       "  <tbody>\n",
       "    <tr>\n",
       "      <th>Return</th>\n",
       "      <td>0.335917</td>\n",
       "      <td>0.472587</td>\n",
       "      <td>0.247567</td>\n",
       "      <td>0.089087</td>\n",
       "      <td>0.029892</td>\n",
       "      <td>0.730375</td>\n",
       "      <td>0.124135</td>\n",
       "      <td>0.215131</td>\n",
       "      <td>0.189343</td>\n",
       "      <td>0.481743</td>\n",
       "    </tr>\n",
       "    <tr>\n",
       "      <th>Weight (Blacklitterman opt)</th>\n",
       "      <td>0.199686</td>\n",
       "      <td>0.007858</td>\n",
       "      <td>0.168897</td>\n",
       "      <td>0.046850</td>\n",
       "      <td>0.011837</td>\n",
       "      <td>0.033932</td>\n",
       "      <td>0.016645</td>\n",
       "      <td>0.225736</td>\n",
       "      <td>0.077972</td>\n",
       "      <td>0.210588</td>\n",
       "    </tr>\n",
       "  </tbody>\n",
       "</table>\n",
       "</div>"
      ],
      "text/plain": [
       "                                 AAPL       AMD     GOOGL        KO       SLB  \\\n",
       "Return                       0.335917  0.472587  0.247567  0.089087  0.029892   \n",
       "Weight (Blacklitterman opt)  0.199686  0.007858  0.168897  0.046850  0.011837   \n",
       "\n",
       "                                 NFLX        GS      MSFT       JPM      AMZN  \n",
       "Return                       0.730375  0.124135  0.215131  0.189343  0.481743  \n",
       "Weight (Blacklitterman opt)  0.033932  0.016645  0.225736  0.077972  0.210588  "
      ]
     },
     "metadata": {},
     "output_type": "display_data"
    },
    {
     "data": {
      "text/html": [
       "<div>\n",
       "<style scoped>\n",
       "    .dataframe tbody tr th:only-of-type {\n",
       "        vertical-align: middle;\n",
       "    }\n",
       "\n",
       "    .dataframe tbody tr th {\n",
       "        vertical-align: top;\n",
       "    }\n",
       "\n",
       "    .dataframe thead th {\n",
       "        text-align: right;\n",
       "    }\n",
       "</style>\n",
       "<table border=\"1\" class=\"dataframe\">\n",
       "  <thead>\n",
       "    <tr style=\"text-align: right;\">\n",
       "      <th></th>\n",
       "      <th>Portfolio(add risk_free) Return</th>\n",
       "      <th>Portfolio(add risk_free) Volitality</th>\n",
       "    </tr>\n",
       "  </thead>\n",
       "  <tbody>\n",
       "    <tr>\n",
       "      <th>Blacklitterman Model(SCLALAR=0.025)</th>\n",
       "      <td>0.308805</td>\n",
       "      <td>0.042817</td>\n",
       "    </tr>\n",
       "  </tbody>\n",
       "</table>\n",
       "</div>"
      ],
      "text/plain": [
       "                                     Portfolio(add risk_free) Return  \\\n",
       "Blacklitterman Model(SCLALAR=0.025)                         0.308805   \n",
       "\n",
       "                                     Portfolio(add risk_free) Volitality  \n",
       "Blacklitterman Model(SCLALAR=0.025)                             0.042817  "
      ]
     },
     "metadata": {},
     "output_type": "display_data"
    },
    {
     "data": {
      "text/html": [
       "<div>\n",
       "<style scoped>\n",
       "    .dataframe tbody tr th:only-of-type {\n",
       "        vertical-align: middle;\n",
       "    }\n",
       "\n",
       "    .dataframe tbody tr th {\n",
       "        vertical-align: top;\n",
       "    }\n",
       "\n",
       "    .dataframe thead th {\n",
       "        text-align: right;\n",
       "    }\n",
       "</style>\n",
       "<table border=\"1\" class=\"dataframe\">\n",
       "  <thead>\n",
       "    <tr style=\"text-align: right;\">\n",
       "      <th></th>\n",
       "      <th>AAPL</th>\n",
       "      <th>AMD</th>\n",
       "      <th>GOOGL</th>\n",
       "      <th>KO</th>\n",
       "      <th>SLB</th>\n",
       "      <th>NFLX</th>\n",
       "      <th>GS</th>\n",
       "      <th>MSFT</th>\n",
       "      <th>JPM</th>\n",
       "      <th>AMZN</th>\n",
       "    </tr>\n",
       "  </thead>\n",
       "  <tbody>\n",
       "    <tr>\n",
       "      <th>AAPL</th>\n",
       "      <td>0.070611</td>\n",
       "      <td>0.049363</td>\n",
       "      <td>0.032749</td>\n",
       "      <td>0.011350</td>\n",
       "      <td>0.031508</td>\n",
       "      <td>0.030031</td>\n",
       "      <td>0.035508</td>\n",
       "      <td>0.028708</td>\n",
       "      <td>0.037184</td>\n",
       "      <td>0.035220</td>\n",
       "    </tr>\n",
       "    <tr>\n",
       "      <th>AMD</th>\n",
       "      <td>0.049363</td>\n",
       "      <td>0.354601</td>\n",
       "      <td>0.040192</td>\n",
       "      <td>0.020423</td>\n",
       "      <td>0.062552</td>\n",
       "      <td>0.066117</td>\n",
       "      <td>0.063859</td>\n",
       "      <td>0.046382</td>\n",
       "      <td>0.065596</td>\n",
       "      <td>0.055571</td>\n",
       "    </tr>\n",
       "    <tr>\n",
       "      <th>GOOGL</th>\n",
       "      <td>0.032749</td>\n",
       "      <td>0.040192</td>\n",
       "      <td>0.062369</td>\n",
       "      <td>0.012858</td>\n",
       "      <td>0.031783</td>\n",
       "      <td>0.039369</td>\n",
       "      <td>0.037819</td>\n",
       "      <td>0.032367</td>\n",
       "      <td>0.039327</td>\n",
       "      <td>0.045753</td>\n",
       "    </tr>\n",
       "    <tr>\n",
       "      <th>KO</th>\n",
       "      <td>0.011350</td>\n",
       "      <td>0.020423</td>\n",
       "      <td>0.012858</td>\n",
       "      <td>0.024011</td>\n",
       "      <td>0.017108</td>\n",
       "      <td>0.010644</td>\n",
       "      <td>0.016064</td>\n",
       "      <td>0.014251</td>\n",
       "      <td>0.018899</td>\n",
       "      <td>0.012798</td>\n",
       "    </tr>\n",
       "    <tr>\n",
       "      <th>SLB</th>\n",
       "      <td>0.031508</td>\n",
       "      <td>0.062552</td>\n",
       "      <td>0.031783</td>\n",
       "      <td>0.017108</td>\n",
       "      <td>0.090942</td>\n",
       "      <td>0.030520</td>\n",
       "      <td>0.050859</td>\n",
       "      <td>0.030565</td>\n",
       "      <td>0.057179</td>\n",
       "      <td>0.033553</td>\n",
       "    </tr>\n",
       "    <tr>\n",
       "      <th>NFLX</th>\n",
       "      <td>0.030031</td>\n",
       "      <td>0.066117</td>\n",
       "      <td>0.039369</td>\n",
       "      <td>0.010644</td>\n",
       "      <td>0.030520</td>\n",
       "      <td>0.277543</td>\n",
       "      <td>0.035760</td>\n",
       "      <td>0.032866</td>\n",
       "      <td>0.031655</td>\n",
       "      <td>0.067784</td>\n",
       "    </tr>\n",
       "    <tr>\n",
       "      <th>GS</th>\n",
       "      <td>0.035508</td>\n",
       "      <td>0.063859</td>\n",
       "      <td>0.037819</td>\n",
       "      <td>0.016064</td>\n",
       "      <td>0.050859</td>\n",
       "      <td>0.035760</td>\n",
       "      <td>0.098494</td>\n",
       "      <td>0.035581</td>\n",
       "      <td>0.088962</td>\n",
       "      <td>0.038052</td>\n",
       "    </tr>\n",
       "    <tr>\n",
       "      <th>MSFT</th>\n",
       "      <td>0.028708</td>\n",
       "      <td>0.046382</td>\n",
       "      <td>0.032367</td>\n",
       "      <td>0.014251</td>\n",
       "      <td>0.030565</td>\n",
       "      <td>0.032866</td>\n",
       "      <td>0.035581</td>\n",
       "      <td>0.061201</td>\n",
       "      <td>0.039525</td>\n",
       "      <td>0.040839</td>\n",
       "    </tr>\n",
       "    <tr>\n",
       "      <th>JPM</th>\n",
       "      <td>0.037184</td>\n",
       "      <td>0.065596</td>\n",
       "      <td>0.039327</td>\n",
       "      <td>0.018899</td>\n",
       "      <td>0.057179</td>\n",
       "      <td>0.031655</td>\n",
       "      <td>0.088962</td>\n",
       "      <td>0.039525</td>\n",
       "      <td>0.124217</td>\n",
       "      <td>0.039351</td>\n",
       "    </tr>\n",
       "    <tr>\n",
       "      <th>AMZN</th>\n",
       "      <td>0.035220</td>\n",
       "      <td>0.055571</td>\n",
       "      <td>0.045753</td>\n",
       "      <td>0.012798</td>\n",
       "      <td>0.033553</td>\n",
       "      <td>0.067784</td>\n",
       "      <td>0.038052</td>\n",
       "      <td>0.040839</td>\n",
       "      <td>0.039351</td>\n",
       "      <td>0.117444</td>\n",
       "    </tr>\n",
       "  </tbody>\n",
       "</table>\n",
       "</div>"
      ],
      "text/plain": [
       "           AAPL       AMD     GOOGL        KO       SLB      NFLX        GS  \\\n",
       "AAPL   0.070611  0.049363  0.032749  0.011350  0.031508  0.030031  0.035508   \n",
       "AMD    0.049363  0.354601  0.040192  0.020423  0.062552  0.066117  0.063859   \n",
       "GOOGL  0.032749  0.040192  0.062369  0.012858  0.031783  0.039369  0.037819   \n",
       "KO     0.011350  0.020423  0.012858  0.024011  0.017108  0.010644  0.016064   \n",
       "SLB    0.031508  0.062552  0.031783  0.017108  0.090942  0.030520  0.050859   \n",
       "NFLX   0.030031  0.066117  0.039369  0.010644  0.030520  0.277543  0.035760   \n",
       "GS     0.035508  0.063859  0.037819  0.016064  0.050859  0.035760  0.098494   \n",
       "MSFT   0.028708  0.046382  0.032367  0.014251  0.030565  0.032866  0.035581   \n",
       "JPM    0.037184  0.065596  0.039327  0.018899  0.057179  0.031655  0.088962   \n",
       "AMZN   0.035220  0.055571  0.045753  0.012798  0.033553  0.067784  0.038052   \n",
       "\n",
       "           MSFT       JPM      AMZN  \n",
       "AAPL   0.028708  0.037184  0.035220  \n",
       "AMD    0.046382  0.065596  0.055571  \n",
       "GOOGL  0.032367  0.039327  0.045753  \n",
       "KO     0.014251  0.018899  0.012798  \n",
       "SLB    0.030565  0.057179  0.033553  \n",
       "NFLX   0.032866  0.031655  0.067784  \n",
       "GS     0.035581  0.088962  0.038052  \n",
       "MSFT   0.061201  0.039525  0.040839  \n",
       "JPM    0.039525  0.124217  0.039351  \n",
       "AMZN   0.040839  0.039351  0.117444  "
      ]
     },
     "metadata": {},
     "output_type": "display_data"
    }
   ],
   "source": [
    "MODEL(optimal_views)"
   ]
  },
  {
   "cell_type": "code",
   "execution_count": null,
   "metadata": {},
   "outputs": [],
   "source": []
  }
 ],
 "metadata": {
  "kernelspec": {
   "display_name": "Python 3",
   "language": "python",
   "name": "python3"
  },
  "language_info": {
   "codemirror_mode": {
    "name": "ipython",
    "version": 3
   },
   "file_extension": ".py",
   "mimetype": "text/x-python",
   "name": "python",
   "nbconvert_exporter": "python",
   "pygments_lexer": "ipython3",
   "version": "3.6.7"
  }
 },
 "nbformat": 4,
 "nbformat_minor": 2
}
